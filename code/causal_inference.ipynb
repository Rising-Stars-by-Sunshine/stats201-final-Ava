{
  "nbformat": 4,
  "nbformat_minor": 0,
  "metadata": {
    "colab": {
      "provenance": []
    },
    "kernelspec": {
      "name": "python3",
      "display_name": "Python 3"
    },
    "language_info": {
      "name": "python"
    }
  },
  "cells": [
    {
      "cell_type": "markdown",
      "source": [
        "# Import Libraries"
      ],
      "metadata": {
        "id": "LalH6XbuJf5V"
      }
    },
    {
      "cell_type": "code",
      "source": [
        "import pandas as pd\n",
        "import matplotlib.pyplot as plt"
      ],
      "metadata": {
        "id": "EmvsT_00Iajk"
      },
      "execution_count": 108,
      "outputs": []
    },
    {
      "cell_type": "markdown",
      "source": [
        "# Prepare Data"
      ],
      "metadata": {
        "id": "qbg7sGTRJhhl"
      }
    },
    {
      "cell_type": "code",
      "source": [
        "# Create dataframe\n",
        "data = pd.read_csv('https://raw.githubusercontent.com/Rising-Stars-by-Sunshine/stats201-final-Ava/main/data/Queried_Data/interestOverTime_March2023.csv')\n",
        "df = pd.DataFrame(data)\n",
        "\n",
        "# Prepare variables\n",
        "df['Date'] = pd.to_datetime(df['Date'])\n",
        "df['Volume'] = df['Volume'].astype(int)\n",
        "\n",
        "x = df['Date']\n",
        "y = df['Volume']\n",
        "\n",
        "# Display data\n",
        "df.head(232)"
      ],
      "metadata": {
        "colab": {
          "base_uri": "https://localhost:8080/",
          "height": 424
        },
        "id": "VAGzo_xfB07O",
        "outputId": "f9717466-4dd2-4efe-89b7-58874d8ce179"
      },
      "execution_count": 153,
      "outputs": [
        {
          "output_type": "execute_result",
          "data": {
            "text/plain": [
              "          Date  Volume\n",
              "0   2004-01-01      28\n",
              "1   2004-02-01      30\n",
              "2   2004-03-01      27\n",
              "3   2004-04-01      24\n",
              "4   2004-05-01      21\n",
              "..         ...     ...\n",
              "226 2022-11-01      43\n",
              "227 2022-12-01      37\n",
              "228 2023-01-01      46\n",
              "229 2023-02-01      48\n",
              "230 2023-03-01      50\n",
              "\n",
              "[231 rows x 2 columns]"
            ],
            "text/html": [
              "\n",
              "  <div id=\"df-54363b8a-1d4b-4c50-bf99-aae8d5fc7ca6\">\n",
              "    <div class=\"colab-df-container\">\n",
              "      <div>\n",
              "<style scoped>\n",
              "    .dataframe tbody tr th:only-of-type {\n",
              "        vertical-align: middle;\n",
              "    }\n",
              "\n",
              "    .dataframe tbody tr th {\n",
              "        vertical-align: top;\n",
              "    }\n",
              "\n",
              "    .dataframe thead th {\n",
              "        text-align: right;\n",
              "    }\n",
              "</style>\n",
              "<table border=\"1\" class=\"dataframe\">\n",
              "  <thead>\n",
              "    <tr style=\"text-align: right;\">\n",
              "      <th></th>\n",
              "      <th>Date</th>\n",
              "      <th>Volume</th>\n",
              "    </tr>\n",
              "  </thead>\n",
              "  <tbody>\n",
              "    <tr>\n",
              "      <th>0</th>\n",
              "      <td>2004-01-01</td>\n",
              "      <td>28</td>\n",
              "    </tr>\n",
              "    <tr>\n",
              "      <th>1</th>\n",
              "      <td>2004-02-01</td>\n",
              "      <td>30</td>\n",
              "    </tr>\n",
              "    <tr>\n",
              "      <th>2</th>\n",
              "      <td>2004-03-01</td>\n",
              "      <td>27</td>\n",
              "    </tr>\n",
              "    <tr>\n",
              "      <th>3</th>\n",
              "      <td>2004-04-01</td>\n",
              "      <td>24</td>\n",
              "    </tr>\n",
              "    <tr>\n",
              "      <th>4</th>\n",
              "      <td>2004-05-01</td>\n",
              "      <td>21</td>\n",
              "    </tr>\n",
              "    <tr>\n",
              "      <th>...</th>\n",
              "      <td>...</td>\n",
              "      <td>...</td>\n",
              "    </tr>\n",
              "    <tr>\n",
              "      <th>226</th>\n",
              "      <td>2022-11-01</td>\n",
              "      <td>43</td>\n",
              "    </tr>\n",
              "    <tr>\n",
              "      <th>227</th>\n",
              "      <td>2022-12-01</td>\n",
              "      <td>37</td>\n",
              "    </tr>\n",
              "    <tr>\n",
              "      <th>228</th>\n",
              "      <td>2023-01-01</td>\n",
              "      <td>46</td>\n",
              "    </tr>\n",
              "    <tr>\n",
              "      <th>229</th>\n",
              "      <td>2023-02-01</td>\n",
              "      <td>48</td>\n",
              "    </tr>\n",
              "    <tr>\n",
              "      <th>230</th>\n",
              "      <td>2023-03-01</td>\n",
              "      <td>50</td>\n",
              "    </tr>\n",
              "  </tbody>\n",
              "</table>\n",
              "<p>231 rows × 2 columns</p>\n",
              "</div>\n",
              "      <button class=\"colab-df-convert\" onclick=\"convertToInteractive('df-54363b8a-1d4b-4c50-bf99-aae8d5fc7ca6')\"\n",
              "              title=\"Convert this dataframe to an interactive table.\"\n",
              "              style=\"display:none;\">\n",
              "        \n",
              "  <svg xmlns=\"http://www.w3.org/2000/svg\" height=\"24px\"viewBox=\"0 0 24 24\"\n",
              "       width=\"24px\">\n",
              "    <path d=\"M0 0h24v24H0V0z\" fill=\"none\"/>\n",
              "    <path d=\"M18.56 5.44l.94 2.06.94-2.06 2.06-.94-2.06-.94-.94-2.06-.94 2.06-2.06.94zm-11 1L8.5 8.5l.94-2.06 2.06-.94-2.06-.94L8.5 2.5l-.94 2.06-2.06.94zm10 10l.94 2.06.94-2.06 2.06-.94-2.06-.94-.94-2.06-.94 2.06-2.06.94z\"/><path d=\"M17.41 7.96l-1.37-1.37c-.4-.4-.92-.59-1.43-.59-.52 0-1.04.2-1.43.59L10.3 9.45l-7.72 7.72c-.78.78-.78 2.05 0 2.83L4 21.41c.39.39.9.59 1.41.59.51 0 1.02-.2 1.41-.59l7.78-7.78 2.81-2.81c.8-.78.8-2.07 0-2.86zM5.41 20L4 18.59l7.72-7.72 1.47 1.35L5.41 20z\"/>\n",
              "  </svg>\n",
              "      </button>\n",
              "      \n",
              "  <style>\n",
              "    .colab-df-container {\n",
              "      display:flex;\n",
              "      flex-wrap:wrap;\n",
              "      gap: 12px;\n",
              "    }\n",
              "\n",
              "    .colab-df-convert {\n",
              "      background-color: #E8F0FE;\n",
              "      border: none;\n",
              "      border-radius: 50%;\n",
              "      cursor: pointer;\n",
              "      display: none;\n",
              "      fill: #1967D2;\n",
              "      height: 32px;\n",
              "      padding: 0 0 0 0;\n",
              "      width: 32px;\n",
              "    }\n",
              "\n",
              "    .colab-df-convert:hover {\n",
              "      background-color: #E2EBFA;\n",
              "      box-shadow: 0px 1px 2px rgba(60, 64, 67, 0.3), 0px 1px 3px 1px rgba(60, 64, 67, 0.15);\n",
              "      fill: #174EA6;\n",
              "    }\n",
              "\n",
              "    [theme=dark] .colab-df-convert {\n",
              "      background-color: #3B4455;\n",
              "      fill: #D2E3FC;\n",
              "    }\n",
              "\n",
              "    [theme=dark] .colab-df-convert:hover {\n",
              "      background-color: #434B5C;\n",
              "      box-shadow: 0px 1px 3px 1px rgba(0, 0, 0, 0.15);\n",
              "      filter: drop-shadow(0px 1px 2px rgba(0, 0, 0, 0.3));\n",
              "      fill: #FFFFFF;\n",
              "    }\n",
              "  </style>\n",
              "\n",
              "      <script>\n",
              "        const buttonEl =\n",
              "          document.querySelector('#df-54363b8a-1d4b-4c50-bf99-aae8d5fc7ca6 button.colab-df-convert');\n",
              "        buttonEl.style.display =\n",
              "          google.colab.kernel.accessAllowed ? 'block' : 'none';\n",
              "\n",
              "        async function convertToInteractive(key) {\n",
              "          const element = document.querySelector('#df-54363b8a-1d4b-4c50-bf99-aae8d5fc7ca6');\n",
              "          const dataTable =\n",
              "            await google.colab.kernel.invokeFunction('convertToInteractive',\n",
              "                                                     [key], {});\n",
              "          if (!dataTable) return;\n",
              "\n",
              "          const docLinkHtml = 'Like what you see? Visit the ' +\n",
              "            '<a target=\"_blank\" href=https://colab.research.google.com/notebooks/data_table.ipynb>data table notebook</a>'\n",
              "            + ' to learn more about interactive tables.';\n",
              "          element.innerHTML = '';\n",
              "          dataTable['output_type'] = 'display_data';\n",
              "          await google.colab.output.renderOutput(dataTable, element);\n",
              "          const docLink = document.createElement('div');\n",
              "          docLink.innerHTML = docLinkHtml;\n",
              "          element.appendChild(docLink);\n",
              "        }\n",
              "      </script>\n",
              "    </div>\n",
              "  </div>\n",
              "  "
            ]
          },
          "metadata": {},
          "execution_count": 153
        }
      ]
    },
    {
      "cell_type": "markdown",
      "source": [
        "# Establish Subsets"
      ],
      "metadata": {
        "id": "pjUZJt-j1ZKJ"
      }
    },
    {
      "cell_type": "code",
      "source": [
        "before_crash = df[df['Date'] < '2008-08-01']\n",
        "after_crash = df.loc[(df['Date'] >= '2008-08-01') & (df['Date'] < '2020-02-01')]\n",
        "pandemic = df[df['Date'] >= '2020-02-01']"
      ],
      "metadata": {
        "id": "hn_z0U2zwarP"
      },
      "execution_count": 154,
      "outputs": []
    },
    {
      "cell_type": "markdown",
      "source": [
        "# Prepare Regression Lines"
      ],
      "metadata": {
        "id": "D1y05v2B1pCb"
      }
    },
    {
      "cell_type": "code",
      "source": [
        "before_crash_fit = np.polyfit(before_crash.index, before_crash['Volume'], 1)\n",
        "before_crash_line = np.poly1d(before_crash_fit)\n",
        "\n",
        "after_crash_fit = np.polyfit(after_crash.index, after_crash['Volume'], 1)\n",
        "after_crash_line = np.poly1d(after_crash_fit)\n",
        "\n",
        "pandemic_fit = np.polyfit(pandemic.index, pandemic['Volume'], 1)\n",
        "pandemic_line = np.poly1d(pandemic_fit)"
      ],
      "metadata": {
        "id": "3K5S73F_1rL0"
      },
      "execution_count": 155,
      "outputs": []
    },
    {
      "cell_type": "markdown",
      "source": [
        "# Plot Graph"
      ],
      "metadata": {
        "id": "6yOn9a3A1yur"
      }
    },
    {
      "cell_type": "code",
      "source": [
        "# Plot queried data\n",
        "plt.plot(x, y, label='Search Volume')\n",
        "\n",
        "# Plot regression lines\n",
        "plt.plot(before_crash['Date'], before_crash_line(before_crash.index), label='Before 2008 Crash')\n",
        "plt.plot(after_crash['Date'], after_crash_line(after_crash.index), label='Post 2008 Crash')\n",
        "plt.plot(pandemic['Date'], pandemic_line(pandemic.index), label='Post Recession Declaration')\n",
        "\n",
        "# Plot events\n",
        "plt.axvline(x=pd.to_datetime('2008-08-01'), color='gray', linestyle='--', label='2008 Stock Market Crash')\n",
        "plt.axvline(x=pd.to_datetime('2020-02-01'), color='gray', linestyle='--', label='Declaration of World Recession')\n",
        "\n",
        "# Add legend and labels\n",
        "plt.legend()\n",
        "plt.title('\"Entrepreneur\" Search Volume Trends Through Financial Crises')\n",
        "plt.xlabel('Date (Year-Month)')\n",
        "plt.ylabel('Google Search Volume of \"Entrepreneur\"')\n",
        "\n",
        "# Generate graph\n",
        "plt.show()"
      ],
      "metadata": {
        "colab": {
          "base_uri": "https://localhost:8080/",
          "height": 295
        },
        "id": "Z7qP6mfWwlcD",
        "outputId": "b880d84c-8c39-4697-a57a-fda79b718b27"
      },
      "execution_count": 156,
      "outputs": [
        {
          "output_type": "display_data",
          "data": {
            "text/plain": [
              "<Figure size 432x288 with 1 Axes>"
            ],
            "image/png": "[encoded data removed]"
          },
          "metadata": {
            "needs_background": "light"
          }
        }
      ]
    }
  ]
}